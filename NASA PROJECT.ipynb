{
 "cells": [
  {
   "cell_type": "code",
   "execution_count": 1,
   "id": "2b010040-3e28-4a04-87c9-04f34423f080",
   "metadata": {},
   "outputs": [],
   "source": [
    "\n",
    "import requests\n",
    "import pymysql  \n",
    "import datetime\n",
    "import time\n",
    "\n",
    "\n",
    "API_KEY = \"QnZOc0T8rMyDtdLY7SxsqWJ4LI3fh484XtMfgPhz\"\n",
    "\n",
    "url =  f\"https://api.nasa.gov/neo/rest/v1/feed?start_date=2024-01-01&end_date=2024-01-08&api_key={API_KEY}\"\n",
    "\n",
    "\n",
    "response = requests.get(url)\n"
   ]
  },
  {
   "cell_type": "code",
   "execution_count": 2,
   "id": "54ebf219-790d-401d-83f5-b8ce11ae6393",
   "metadata": {},
   "outputs": [
    {
     "name": "stdout",
     "output_type": "stream",
     "text": [
      " Fetched 10000 asteroid records.\n",
      " Fetched 10000 close approach records.\n"
     ]
    }
   ],
   "source": [
    "target = 10000 # Total close approach records\n",
    "asteroids_data = []\n",
    "approach_data = []\n",
    "\n",
    "url = f\"https://api.nasa.gov/neo/rest/v1/feed?start_date=2024-01-01&end_date=2024-01-08&api_key={API_KEY}\"\n",
    "\n",
    "\n",
    "while len(approach_data) < target:\n",
    "    response = requests.get(url)\n",
    "    data = response.json()\n",
    "    neo_data = data.get(\"near_earth_objects\", {})\n",
    "\n",
    "    for date, asteroid_list in neo_data.items():\n",
    "        for asteroid in asteroid_list:\n",
    "            try:\n",
    "               \n",
    "                asteroids_data.append({\n",
    "                    'id': asteroid.get('id'),\n",
    "                    'name': asteroid.get('name'),\n",
    "                    'absolute_magnitude_h': float(asteroid.get('absolute_magnitude_h', 0)),\n",
    "                    'estimated_diameter_min_km': asteroid.get('estimated_diameter', {}).get('kilometers', {}).get('estimated_diameter_min', 0.0),\n",
    "                    'estimated_diameter_max_km': asteroid.get('estimated_diameter', {}).get('kilometers', {}).get('estimated_diameter_max', 0.0),\n",
    "                    'is_potentially_hazardous_asteroid': asteroid.get('is_potentially_hazardous_asteroid', False)\n",
    "                })\n",
    "\n",
    "                \n",
    "                for approach in asteroid.get('close_approach_data', []):\n",
    "                    try:\n",
    "                        approach_data.append({\n",
    "                            'neo_reference_id': asteroid.get('id'),\n",
    "                            'close_approach_date': datetime.datetime.strptime(approach.get('close_approach_date'), \"%Y-%m-%d\").date(),\n",
    "                            'relative_velocity_kmph': float(approach.get('relative_velocity', {}).get('kilometers_per_hour', 0.0)),\n",
    "                            'astronomical': float(approach.get('miss_distance', {}).get('astronomical', 0.0)),\n",
    "                            'miss_distance_km': float(approach.get('miss_distance', {}).get('kilometers', 0.0)),\n",
    "                            'miss_distance_lunar': float(approach.get('miss_distance', {}).get('lunar', 0.0)),\n",
    "                            'orbiting_body': approach.get('orbiting_body', 'Unknown')\n",
    "                        })\n",
    "                    except Exception as e:\n",
    "                        print(f\"Skipped approach record due to error: {e}\")\n",
    "\n",
    "                    if len(approach_data) >= target:\n",
    "                        break\n",
    "                if len(approach_data) >= target:\n",
    "                    break\n",
    "\n",
    "            except Exception as e:\n",
    "                print(f\"Skipped asteroid record due to error: {e}\")\n",
    "        if len(approach_data) >= target:\n",
    "            break\n",
    "\n",
    "    url = data['links'].get('next')\n",
    "    if not url:\n",
    "        break\n",
    "    time.sleep(1)\n",
    "\n",
    "    \n",
    "\n",
    "print(f\" Fetched {len(asteroids_data)} asteroid records.\")\n",
    "print(f\" Fetched {len(approach_data)} close approach records.\")"
   ]
  },
  {
   "cell_type": "code",
   "execution_count": 3,
   "id": "f1020850-1420-4514-97d0-d1132edf23f9",
   "metadata": {},
   "outputs": [],
   "source": [
    "import pymysql\n",
    "\n",
    "\n",
    "connection = pymysql.connect(\n",
    "    host = \"localhost\",\n",
    "    user = \"root\",\n",
    "    password = \"rakshitha@2906\",\n",
    "    database = \"asteroids\"\n",
    ")\n",
    "\n",
    "cursor = connection.cursor()"
   ]
  },
  {
   "cell_type": "code",
   "execution_count": 4,
   "id": "06dd1622-09cf-4e83-98a6-d081deabbffe",
   "metadata": {},
   "outputs": [
    {
     "data": {
      "text/plain": [
       "0"
      ]
     },
     "execution_count": 4,
     "metadata": {},
     "output_type": "execute_result"
    }
   ],
   "source": [
    "\n",
    "cursor.execute(\"\"\"\n",
    "CREATE TABLE IF NOT EXISTS asteroids (\n",
    "    id VARCHAR(255),\n",
    "    name VARCHAR(255),\n",
    "    absolute_magnitude_h FLOAT,\n",
    "    estimated_diameter_min_km FLOAT,\n",
    "    estimated_diameter_max_km FLOAT,\n",
    "    is_potentially_hazardous_asteroid BOOLEAN\n",
    ")\n",
    "\"\"\")\n",
    "\n",
    "\n",
    "cursor.execute(\"\"\"\n",
    "CREATE TABLE IF NOT EXISTS close_approach (\n",
    "    neo_reference_id VARCHAR(255),\n",
    "    close_approach_date DATE,\n",
    "    relative_velocity_kmph FLOAT,\n",
    "    astronomical FLOAT,\n",
    "    miss_distance_km FLOAT,\n",
    "    miss_distance_lunar FLOAT,\n",
    "    orbiting_body VARCHAR(255)\n",
    ")\n",
    "\"\"\")\n"
   ]
  },
  {
   "cell_type": "code",
   "execution_count": 5,
   "id": "287b48f9-289c-4444-a847-00bcb68ca0b6",
   "metadata": {},
   "outputs": [
    {
     "name": "stdout",
     "output_type": "stream",
     "text": [
      " Data successfully inserted into MySQL.\n"
     ]
    }
   ],
   "source": [
    "\n",
    "asteroid_insert_query = \"\"\"\n",
    "INSERT INTO asteroids (\n",
    "    id, name, absolute_magnitude_h, \n",
    "    estimated_diameter_min_km, estimated_diameter_max_km, \n",
    "    is_potentially_hazardous_asteroid\n",
    ") VALUES (%s, %s, %s, %s, %s, %s)\n",
    "\"\"\"\n",
    "\n",
    "for a in asteroids_data:\n",
    "    cursor.execute(asteroid_insert_query, (\n",
    "        a['id'],\n",
    "        a['name'],\n",
    "        a['absolute_magnitude_h'],\n",
    "        a['estimated_diameter_min_km'],\n",
    "        a['estimated_diameter_max_km'],\n",
    "        a['is_potentially_hazardous_asteroid']\n",
    "    ))\n",
    "\n",
    "\n",
    "approach_insert_query = \"\"\"\n",
    "INSERT INTO close_approach (\n",
    "    neo_reference_id, close_approach_date, relative_velocity_kmph,\n",
    "    astronomical, miss_distance_km, miss_distance_lunar, orbiting_body\n",
    ") VALUES (%s, %s, %s, %s, %s, %s, %s)\n",
    "\"\"\"\n",
    "\n",
    "for ca in approach_data:\n",
    "    cursor.execute(approach_insert_query, (\n",
    "        ca['neo_reference_id'],\n",
    "        ca['close_approach_date'],\n",
    "        ca['relative_velocity_kmph'],\n",
    "        ca['astronomical'],\n",
    "        ca['miss_distance_km'],\n",
    "        ca['miss_distance_lunar'],\n",
    "        ca['orbiting_body']\n",
    "    ))\n",
    "\n",
    "\n",
    "connection.commit()\n",
    "cursor.close()\n",
    "connection.close()\n",
    "\n",
    "print(\" Data successfully inserted into MySQL.\")"
   ]
  },
  {
   "cell_type": "code",
   "execution_count": null,
   "id": "2165742f-2848-4dd8-a53c-5e8238d5766e",
   "metadata": {},
   "outputs": [],
   "source": []
  },
  {
   "cell_type": "code",
   "execution_count": null,
   "id": "2d5b3dc6-16ed-40c6-b441-36440c68a465",
   "metadata": {},
   "outputs": [],
   "source": []
  },
  {
   "cell_type": "code",
   "execution_count": null,
   "id": "6fd3433e-33e1-4d87-9d9c-90477b7f521d",
   "metadata": {},
   "outputs": [],
   "source": []
  },
  {
   "cell_type": "code",
   "execution_count": null,
   "id": "dbdb333c-2e03-4540-ba86-0cd3812d7dec",
   "metadata": {},
   "outputs": [],
   "source": []
  }
 ],
 "metadata": {
  "kernelspec": {
   "display_name": "Python [conda env:base] *",
   "language": "python",
   "name": "conda-base-py"
  },
  "language_info": {
   "codemirror_mode": {
    "name": "ipython",
    "version": 3
   },
   "file_extension": ".py",
   "mimetype": "text/x-python",
   "name": "python",
   "nbconvert_exporter": "python",
   "pygments_lexer": "ipython3",
   "version": "3.12.7"
  }
 },
 "nbformat": 4,
 "nbformat_minor": 5
}
